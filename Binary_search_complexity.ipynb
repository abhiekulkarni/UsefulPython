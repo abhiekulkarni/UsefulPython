{
 "cells": [
  {
   "cell_type": "code",
   "execution_count": 5,
   "metadata": {},
   "outputs": [],
   "source": [
    "# -*- coding: utf-8 -*-\n",
    "\"\"\"\n",
    "Created on Sun Apr  5 17:44:10 2020\n",
    "\n",
    "Binary Search Complexity analysis\n",
    "\n",
    "@author: abhijit\n",
    "\"\"\"\n",
    "\n",
    "#%matplotlib inline\n",
    "%matplotlib qt\n",
    "\n",
    "\n",
    "\n",
    "def binary_search_integer(upper_limit):\n",
    "    import random;\n",
    "    number_to_guess = random.randint(0,upper_limit);\n",
    "    num_min = 0; num_max = upper_limit;\n",
    "    num_mid = int((num_min+num_max)/2);\n",
    "    Correct_Ans = False;\n",
    "    i = 0;\n",
    "    while(Correct_Ans == False and i<25):\n",
    "        if(num_mid < number_to_guess):\n",
    "            num_min = num_mid;\n",
    "            num_mid = int((num_min+num_max)/2);\n",
    "        elif(num_mid > number_to_guess):\n",
    "            num_max = num_mid;\n",
    "            num_mid = int((num_min+num_max)/2);\n",
    "        else:\n",
    "            Correct_Ans = True;\n",
    "        i+=1;\n",
    "    return([number_to_guess, num_mid, i])\n",
    "\n",
    "\n",
    "####################################################################################\n",
    "###########################Testing binary search complexity#########################\n",
    "\n",
    "import numpy as np\n",
    "import matplotlib.pyplot as plt\n",
    "import matplotlib as mat\n",
    "\n",
    "n = np.logspace(1,6,num=50)\n",
    "n_iter = [];\n",
    "for j in range(0,len(n)):\n",
    "    y = binary_search_integer(int(n[j]));\n",
    "    n_iter.append(y[2]);\n",
    "\n",
    "n_limit = np.log2(n);\n",
    "\n",
    "\n",
    "mat.rcParams['font.size'] = 20\n",
    "\n",
    "plt.plot(n,n_iter,'-*',label='Result');\n",
    "plt.plot(n,n_limit,'--m',label='log_2(n)')\n",
    "plt.xlabel('Size (n)');\n",
    "plt.legend()\n",
    "plt.ylabel('Number of iterations to solve')\n",
    "plt.title('Binary search complexity')\n",
    "plt.grid('on')\n",
    "   \n",
    "    \n",
    "    "
   ]
  },
  {
   "cell_type": "code",
   "execution_count": 4,
   "metadata": {},
   "outputs": [
    {
     "data": {
      "text/plain": [
       "[<matplotlib.lines.Line2D at 0x1eda5ac9128>]"
      ]
     },
     "execution_count": 4,
     "metadata": {},
     "output_type": "execute_result"
    },
    {
     "data": {
      "image/png": "[encoded data removed]",
      "text/plain": [
       "<Figure size 432x288 with 1 Axes>"
      ]
     },
     "metadata": {
      "needs_background": "light"
     },
     "output_type": "display_data"
    }
   ],
   "source": [
    "%matplotlib inline\n",
    "\n",
    "import numpy as np\n",
    "import pandas as pd\n",
    "import matplotlib.pyplot as plt\n",
    "gps_data = pd.read_csv(\"PyData/city-lousiville-escooter-trip-data/DocklessTripOpenData_9.csv\")\n",
    "trip_time = gps_data['TripDuration']\n",
    "plt.plot(trip_time[0:1000])"
   ]
  },
  {
   "cell_type": "code",
   "execution_count": 4,
   "metadata": {},
   "outputs": [
    {
     "name": "stdout",
     "output_type": "stream",
     "text": [
      "Please think of an integer between 0 and 20 and type in start to begin the number-guessing-game\n",
      "\n",
      "start\n",
      "\n",
      "\n",
      "\n",
      "Press + if the guess needs to be increased and - if guess needs to be reduced and 0 if correct\n",
      "\n",
      "The guess is 10, please provide your feedback \n",
      "+\n",
      "The guess is 15, please provide your feedback \n",
      "+\n",
      "The guess is 17, please provide your feedback \n",
      "-\n",
      "The guess is 16, please provide your feedback \n",
      "0\n",
      "So, we solved the problem in 4 iterations\n",
      "?\n"
     ]
    }
   ],
   "source": [
    "def Guess_the_number():\n",
    "    print(\"Please think of an integer between 0 and 20 and type in start to begin the number-guessing-game\\n\");\n",
    "    user_start = input();\n",
    "    num_min = 0; num_max = 20;\n",
    "    num_mid = int((num_min+num_max)/2);\n",
    "    Correct_Ans = False;\n",
    "    print(\"\\n\\n\")\n",
    "    print(\"Press + if the guess needs to be increased and - if guess needs to be reduced and 0 if correct\\n\");\n",
    "    i = 0;\n",
    "    while(Correct_Ans == False and user_start == 'start'):\n",
    "        print(\"The guess is %s, please provide your feedback \" %(num_mid));\n",
    "        user_fb = input();\n",
    "        if(user_fb == '0'):\n",
    "            Correct_Ans = True\n",
    "        elif(user_fb == '+'):\n",
    "            num_min = num_mid;\n",
    "            num_mid = int((num_min+num_max)/2);\n",
    "        elif(user_fb == '-'):\n",
    "            num_max = num_mid;\n",
    "            num_mid = int((num_min+num_max)/2);\n",
    "        else:\n",
    "            print(\"Your input is wrong, please enter either +/-/0 depending on the guess\\n\");\n",
    "        i+=1;\n",
    "    print(\"So, we solved the problem in %s iterations\\n.\" %(i))\n",
    "\n",
    "Guess_the_number()\n",
    "        \n",
    "    \n",
    "    \n",
    "    \n",
    "    "
   ]
  },
  {
   "cell_type": "code",
   "execution_count": 4,
   "metadata": {},
   "outputs": [
    {
     "data": {
      "text/plain": [
       "[<matplotlib.lines.Line2D at 0x1bd0a5feac8>]"
      ]
     },
     "execution_count": 4,
     "metadata": {},
     "output_type": "execute_result"
    },
    {
     "data": {
      "image/png": "[encoded data removed]",
      "text/plain": [
       "<Figure size 432x288 with 1 Axes>"
      ]
     },
     "metadata": {
      "needs_background": "light"
     },
     "output_type": "display_data"
    }
   ],
   "source": [
    "%matplotlib inline\n",
    "\n",
    "def binary_search_integer(upper_limit):\n",
    "    import random;\n",
    "    number_to_guess = random.randint(0,upper_limit);\n",
    "    num_min = 0; num_max = upper_limit;\n",
    "    num_mid = int((num_min+num_max)/2);\n",
    "    Correct_Ans = False;\n",
    "    i = 0;\n",
    "    while(Correct_Ans == False):\n",
    "        if(num_mid < number_to_guess):\n",
    "            num_min = num_mid;\n",
    "            num_mid = int((num_min+num_max)/2);\n",
    "        elif(num_mid > number_to_guess):\n",
    "            num_max = num_mid;\n",
    "            num_mid = int((num_min+num_max)/2);\n",
    "        else:\n",
    "            Correct_Ans = True;\n",
    "        i+=1;\n",
    "    return([number_to_guess, num_mid, i])\n",
    "\n",
    "import numpy as np\n",
    "import matplotlib.pyplot as plt\n",
    "\n",
    "\n",
    "n = np.logspace(1,6,num=20)\n",
    "n_iter = [];\n",
    "for j in range(0,len(n)):\n",
    "    y = binary_search_integer(int(n[j]));\n",
    "    n_iter.append(y[2]);\n",
    "\n",
    "plt.plot(n,n_iter)   \n",
    "#plt.xscale('log')    \n",
    "    "
   ]
  },
  {
   "cell_type": "code",
   "execution_count": null,
   "metadata": {},
   "outputs": [],
   "source": []
  },
  {
   "cell_type": "code",
   "execution_count": null,
   "metadata": {},
   "outputs": [],
   "source": []
  }
 ],
 "metadata": {
  "kernelspec": {
   "display_name": "Python 3",
   "language": "python",
   "name": "python3"
  },
  "language_info": {
   "codemirror_mode": {
    "name": "ipython",
    "version": 3
   },
   "file_extension": ".py",
   "mimetype": "text/x-python",
   "name": "python",
   "nbconvert_exporter": "python",
   "pygments_lexer": "ipython3",
   "version": "3.6.10"
  }
 },
 "nbformat": 4,
 "nbformat_minor": 2
}
