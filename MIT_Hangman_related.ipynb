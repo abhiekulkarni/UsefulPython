{
 "cells": [
  {
   "cell_type": "code",
   "execution_count": 6,
   "metadata": {},
   "outputs": [
    {
     "name": "stdout",
     "output_type": "stream",
     "text": [
      "There are elements in the list that are greater than 6 and they are listed in: [19, 9, 100]\n"
     ]
    }
   ],
   "source": [
    "def check_less_than_6(list_in):\n",
    "    j=0;x=[]\n",
    "    for i in list_in:\n",
    "        if(i>6):\n",
    "            #print(\"There is an element > 6 in the list\\n\")\n",
    "            x.append(i)\n",
    "        else:\n",
    "            j=j+1;\n",
    "    if(j==len(list_in)):\n",
    "        print(\"All elements in the list are < 6\\n\");\n",
    "    else:\n",
    "        print(\"There are elements in the list that are greater than 6 and they are listed in: %s\" %(x))\n",
    "        \n",
    "check_less_than_6([1,19,3,4,1,1,9,2,3,100])\n",
    "        "
   ]
  },
  {
   "cell_type": "code",
   "execution_count": 8,
   "metadata": {},
   "outputs": [
    {
     "name": "stdout",
     "output_type": "stream",
     "text": [
      "No element in the list is less than 6\n",
      "\n"
     ]
    }
   ],
   "source": [
    "def check_if_one_el_less_than_6(list_in):\n",
    "    j=0;x=[]\n",
    "    for i in list_in:\n",
    "        if(i<6):\n",
    "            #print(\"There is an element > 6 in the list\\n\")\n",
    "            x.append(i)\n",
    "        else:\n",
    "            j=j+1;\n",
    "    if(x==[]):\n",
    "        print(\"No element in the list is less than 6\\n\");\n",
    "    else:\n",
    "        print(\"There are elements in the list that less than 6 and they are listed in: %s\" %(x))\n",
    "        \n",
    "check_if_one_el_less_than_6([11,12,31,11])"
   ]
  },
  {
   "cell_type": "code",
   "execution_count": 21,
   "metadata": {},
   "outputs": [
    {
     "name": "stdout",
     "output_type": "stream",
     "text": [
      "--p----p\n"
     ]
    }
   ],
   "source": [
    "def word_guessed(w):\n",
    "    secret_word = 'claptrap';\n",
    "    res = [];c=0;\n",
    "    for i in w:\n",
    "        for j in secret_word:\n",
    "            if(j!=i):\n",
    "                pass\n",
    "            else:\n",
    "                res.append(True)\n",
    "                break\n",
    "    for k in range(0,len(res)):\n",
    "        if(res[k]==True):\n",
    "            c=c+1;\n",
    "    \n",
    "    if(c>=len(secret_word)):\n",
    "        print('sucess!\\n');\n",
    "    else:\n",
    "        print('Sorry, wrong answer\\n');\n",
    "    print('also result is %s' %(res))\n",
    "        \n",
    "\n",
    "global secret_word;\n",
    "secret_word = 'claptrap';\n",
    "displ = ['-']*len(secret_word);\n",
    "\n",
    "def print_guessed(w):\n",
    "    if(w==[]):\n",
    "        for i in secret_word:\n",
    "            print('-',end=\" \");\n",
    "    \n",
    "    for i in range(0,len(secret_word)):\n",
    "        if(w==secret_word[i]):\n",
    "            letter_pos = i;\n",
    "            displ.remove(displ[i]);\n",
    "            displ.insert(i,w);\n",
    "    print(\"\".join(displ))\n",
    "        \n",
    "print_guessed('p')    \n",
    "\n",
    "    \n",
    "    \n",
    "    \n",
    "    \n",
    "    \n",
    "    \n",
    "    "
   ]
  },
  {
   "cell_type": "code",
   "execution_count": 2,
   "metadata": {
    "scrolled": true
   },
   "outputs": [
    {
     "name": "stdout",
     "output_type": "stream",
     "text": [
      "Guess a letter\n",
      "\n",
      "u\n",
      "-u--u\n",
      "Guess a letter\n",
      "\n",
      "m\n",
      "mu--u\n",
      "Guess a letter\n",
      "\n",
      "d\n",
      "muddu\n",
      "Guess a letter\n",
      "\n",
      "a\n",
      "muddu\n",
      "Guess a letter\n",
      "\n",
      "a\n",
      "muddu\n"
     ]
    }
   ],
   "source": [
    "global secret_word;\n",
    "global displ;\n",
    "global w;\n",
    "secret_word = 'muddu';\n",
    "displ = ['-']*len(secret_word);\n",
    "\n",
    "def print_guessed():\n",
    "    for i in range(0,len(secret_word)):\n",
    "        if(w==secret_word[i]):\n",
    "            letter_pos = i;\n",
    "            displ.insert(i,w);\n",
    "            k=letter_pos+1;\n",
    "            displ.pop(k);\n",
    "    #print(\"\".join(displ))\n",
    "    return(displ)\n",
    "\n",
    "iter = 0;\n",
    "while(iter<len(secret_word)):\n",
    "    print('Guess a letter\\n');\n",
    "    w=input();\n",
    "    displ = print_guessed();\n",
    "    print(\"\".join(displ))\n",
    "    iter = iter + 1;\n",
    "    "
   ]
  },
  {
   "cell_type": "code",
   "execution_count": 8,
   "metadata": {},
   "outputs": [
    {
     "name": "stdout",
     "output_type": "stream",
     "text": [
      "Sorry, wrong answer\n",
      "\n",
      "False\n"
     ]
    }
   ],
   "source": [
    "def word_guessed(w):\n",
    "    secret_word = 'claptrap';\n",
    "    res = [];c=0;\n",
    "    for i in w:\n",
    "        for j in secret_word:\n",
    "            if(j!=i):\n",
    "                pass\n",
    "            else:\n",
    "                res.append(True)\n",
    "                break\n",
    "    for k in range(0,len(res)):\n",
    "        if(res[k]==True):\n",
    "            c=c+1;\n",
    "    \n",
    "    if(c>=len(secret_word)):\n",
    "        print('sucess!\\n');\n",
    "        return(True)\n",
    "    else:\n",
    "        print('Sorry, wrong answer\\n');\n",
    "        return False\n",
    "\n",
    "y=word_guessed('clptrap');\n",
    "print(y)"
   ]
  },
  {
   "cell_type": "code",
   "execution_count": 12,
   "metadata": {},
   "outputs": [
    {
     "name": "stdout",
     "output_type": "stream",
     "text": [
      "Guess a letter for Hangman\n",
      "\n",
      "u\n",
      "-u--u\n",
      "Guess a letter for Hangman\n",
      "\n",
      "m\n",
      "mu--u\n",
      "Guess a letter for Hangman\n",
      "\n",
      "d\n",
      "muddu\n",
      "Good job! You got the right answer!\n",
      "\n"
     ]
    }
   ],
   "source": [
    "global secret_word;\n",
    "global displ;\n",
    "global w;\n",
    "secret_word = 'muddu';\n",
    "displ = ['-']*len(secret_word);\n",
    "\n",
    "def print_guessed():\n",
    "    for i in range(0,len(secret_word)):\n",
    "        if(w==secret_word[i]):\n",
    "            letter_pos = i;\n",
    "            displ.insert(i,w);\n",
    "            k=letter_pos+1;\n",
    "            displ.pop(k);\n",
    "    return(displ)\n",
    "\n",
    "def word_guessed(w):\n",
    "    res = [];c=0;\n",
    "    for i in w:\n",
    "        for j in secret_word:\n",
    "            if(j!=i):\n",
    "                pass\n",
    "            else:\n",
    "                res.append(True)\n",
    "                break\n",
    "    for k in range(0,len(res)):\n",
    "        if(res[k]==True):\n",
    "            c=c+1;\n",
    "    \n",
    "    if(c>=len(secret_word)):\n",
    "        return(True)\n",
    "    else:\n",
    "        return False\n",
    "\n",
    "iter = 0; \n",
    "Correct_Guess = False\n",
    "MAX_GUESS = 6\n",
    "while(iter < MAX_GUESS and Correct_Guess == False):\n",
    "    print('Guess a letter for Hangman\\n');\n",
    "    w=input();\n",
    "    displ = print_guessed();\n",
    "    print(\"\".join(displ))\n",
    "    Correct_Guess = word_guessed(displ);\n",
    "    iter = iter + 1;\n",
    "\n",
    "if(Correct_Guess == True):\n",
    "    print('Good job! You got the right answer!\\n')\n",
    "else:\n",
    "    print('Sorry, you lost the Hangman game\\n')"
   ]
  },
  {
   "cell_type": "code",
   "execution_count": 37,
   "metadata": {},
   "outputs": [
    {
     "name": "stdout",
     "output_type": "stream",
     "text": [
      "Guess a letter for Hangman\n",
      "\n",
      "a\n",
      "-a-----\n",
      "s\n",
      "-a-----\n",
      "i\n",
      "-a-----\n",
      "e\n",
      "-a-----\n",
      "t\n",
      "-a-----\n",
      "m\n",
      "-a-----\n",
      "Sorry, you lost the Hangman game\n",
      "\n"
     ]
    }
   ],
   "source": [
    "def play_hangman():   \n",
    "    global secret_word;\n",
    "    global displ;\n",
    "    global w;\n",
    "    secret_word = 'balcony';\n",
    "    displ = ['-']*len(secret_word);\n",
    "\n",
    "    def print_guessed():\n",
    "        for i in range(0,len(secret_word)):\n",
    "            if(w==secret_word[i]):\n",
    "                letter_pos = i;\n",
    "                displ.insert(i,w);\n",
    "                k=letter_pos+1;\n",
    "                displ.pop(k);\n",
    "        return(displ)\n",
    "\n",
    "    def word_guessed(w):\n",
    "        res = [];c=0;\n",
    "        for i in w:\n",
    "            for j in secret_word:\n",
    "                if(j!=i):\n",
    "                    pass\n",
    "                else:\n",
    "                    res.append(True)\n",
    "                    break\n",
    "        for k in range(0,len(res)):\n",
    "            if(res[k]==True):\n",
    "                c=c+1;\n",
    "\n",
    "        if(c>=len(secret_word)):\n",
    "            return(True)\n",
    "        else:\n",
    "            return False\n",
    "\n",
    "    iter = 0; \n",
    "    Correct_Guess = False\n",
    "    MAX_GUESS = 6\n",
    "    print('Guess a letter for Hangman\\n');\n",
    "    while(iter < MAX_GUESS and Correct_Guess == False):\n",
    "        w=input();\n",
    "        displ = print_guessed();\n",
    "        print(\"\".join(displ))\n",
    "        Correct_Guess = word_guessed(displ);\n",
    "        iter = iter + 1;\n",
    "\n",
    "    if(Correct_Guess == True):\n",
    "        print('Good job! You got the right answer!\\n')\n",
    "    else:\n",
    "        print('Sorry, you lost the Hangman game\\n')\n",
    "        \n",
    "        \n",
    "play_hangman() #Command to run the game.\n",
    "\n",
    "\n"
   ]
  },
  {
   "cell_type": "code",
   "execution_count": 36,
   "metadata": {},
   "outputs": [
    {
     "name": "stdout",
     "output_type": "stream",
     "text": [
      "0\n"
     ]
    }
   ],
   "source": [
    "x1=['a','b','c'];\n",
    "x2=['a','w','c']\n",
    "mistake=1;\n",
    "for i in range(0,len(x1)):\n",
    "    if(x1[i]==x2[i]):\n",
    "        mistake = mistake and 1;\n",
    "    else:\n",
    "        mistake = 0;\n",
    "print(mistake)\n",
    "\n",
    "\n",
    "\n",
    "\n",
    "\n"
   ]
  },
  {
   "cell_type": "code",
   "execution_count": null,
   "metadata": {},
   "outputs": [],
   "source": []
  },
  {
   "cell_type": "code",
   "execution_count": null,
   "metadata": {},
   "outputs": [],
   "source": []
  }
 ],
 "metadata": {
  "kernelspec": {
   "display_name": "Python 3",
   "language": "python",
   "name": "python3"
  },
  "language_info": {
   "codemirror_mode": {
    "name": "ipython",
    "version": 3
   },
   "file_extension": ".py",
   "mimetype": "text/x-python",
   "name": "python",
   "nbconvert_exporter": "python",
   "pygments_lexer": "ipython3",
   "version": "3.6.5"
  }
 },
 "nbformat": 4,
 "nbformat_minor": 2
}
